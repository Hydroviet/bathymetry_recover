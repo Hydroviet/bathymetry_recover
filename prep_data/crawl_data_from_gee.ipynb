{
 "cells": [
  {
   "cell_type": "code",
   "execution_count": 1,
   "metadata": {},
   "outputs": [
    {
     "name": "stdout",
     "output_type": "stream",
     "text": [
      "Google Earth Engine has initialized successfully!\n"
     ]
    }
   ],
   "source": [
    "import ee\n",
    "# ee.Authenticate()\n",
    "try:\n",
    "  ee.Initialize()\n",
    "  print('Google Earth Engine has initialized successfully!')\n",
    "except ee.EEException as e:\n",
    "  print('Google Earth Engine has failed to initialize!')\n",
    "except:\n",
    "    print(\"Unexpected error:\", sys.exc_info()[0])\n",
    "    raise"
   ]
  },
  {
   "cell_type": "code",
   "execution_count": null,
   "metadata": {},
   "outputs": [],
   "source": [
    "srtm = ee.Image(\"USGS/SRTMGL1_003\")\n",
    "# Total now: 6000\n",
    "num = 3000\n",
    "# region = ee.Geometry.Polygon([[143.78179968403583,-37.66494606551627],\n",
    "#                               [149.14312780903583,-36.26048144242306],\n",
    "#                               [152.46046847751526,-29.591409579420986],\n",
    "#                               [149.75836218403583,-22.002437813303377],\n",
    "#                               [131.21344030903583,-14.113450343617195],\n",
    "#                               [126.71735793193226,-27.064383319090037],\n",
    "#                               [143.78179968403583,-37.66494606551627]])\n",
    "# region = ee.FeatureCollection('users/thiennust274/mekongbasin')\n",
    "region = ee.FeatureCollection('users/thiennust274/aus_mountainous')\n",
    "region = region.geometry()\n",
    "FOLDER = 'aus_mountainous_add'\n",
    "\n",
    "rand_points = ee.FeatureCollection.randomPoints(region, num)\n",
    "rand_regions = rand_points.map(lambda p: p.buffer(5000).bounds())\n",
    "\n",
    "images = rand_regions.map(lambda region: srtm.clip(region))\n",
    "list_images = images.toList(images.size().getInfo())\n",
    "list_regions = rand_regions.toList(rand_regions.size().getInfo())\n",
    "for i in range(num):\n",
    "    img = ee.Image(list_images.get(i))\n",
    "    region = ee.Feature(list_regions.get(i))\n",
    "    name = 'STRM' + str(i+ 6000)\n",
    "    taskcfg = {\n",
    "        'description': name,\n",
    "        'image': img,\n",
    "        'region': region.geometry(),\n",
    "        'scale': 30,\n",
    "        'folder': FOLDER,\n",
    "        'fileNamePrefix': name,\n",
    "    }\n",
    "    ee.batch.Export.image.toDrive(**taskcfg).start()"
   ]
  }
 ],
 "metadata": {
  "kernelspec": {
   "display_name": "Python [conda env:nu] *",
   "language": "python",
   "name": "conda-env-nu-py"
  },
  "language_info": {
   "codemirror_mode": {
    "name": "ipython",
    "version": 3
   },
   "file_extension": ".py",
   "mimetype": "text/x-python",
   "name": "python",
   "nbconvert_exporter": "python",
   "pygments_lexer": "ipython3",
   "version": "3.6.10"
  },
  "widgets": {
   "application/vnd.jupyter.widget-state+json": {
    "state": {},
    "version_major": 2,
    "version_minor": 0
   }
  }
 },
 "nbformat": 4,
 "nbformat_minor": 4
}
